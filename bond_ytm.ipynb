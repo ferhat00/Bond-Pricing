{
 "cells": [
  {
   "attachments": {
    "Capture3.PNG": {
     "image/png": "[encoded data removed]"
    }
   },
   "cell_type": "markdown",
   "metadata": {},
   "source": [
    "The yield to maturity (YTM) measures the interest rate, as implied by the bond,\n",
    "that takes into account the present value of all the future coupon payments and\n",
    "the principal. It is assumed that bond holders can invest received coupons at the\n",
    "YTM rate until the maturity of the bond; according to risk-neutral expectations,\n",
    "the payments received should be the same as the price paid for the bond.\n",
    "Let's take a look at an example of a 5.75 percent bond that will mature in 1.5 years\n",
    "with a par value of 100. The price of the bond is $95.0428 and coupons are paid\n",
    "semi-annually. The pricing equation can be stated as follows:\n",
    "![Capture3.PNG](attachment:Capture3.PNG)\n",
    "Here, c is the coupon dollar amount paid at each time period, T is the time period of\n",
    "payment in years, n is the coupon payment frequency, and y is the YTM that we are\n",
    "interested to solve. To solve for YTM is typically a complex process, and most bond\n",
    "YTM calculators use Newton's method as an iterative process.\n",
    "The bond YTM calculator is illustrated by the following Python code."
   ]
  },
  {
   "cell_type": "code",
   "execution_count": 1,
   "metadata": {},
   "outputs": [
    {
     "name": "stdout",
     "output_type": "stream",
     "text": [
      "0.09369155345239522\n"
     ]
    }
   ],
   "source": [
    "import scipy.optimize as optimize\n",
    " \n",
    " \n",
    "def bond_ytm(price, par, T, coup, freq=2, guess=0.05):\n",
    "    freq = float(freq)\n",
    "    periods = T*freq\n",
    "    coupon = coup/100.*par/freq\n",
    "    dt = [(i+1)/freq for i in range(int(periods))]\n",
    "    ytm_func = lambda y: \\\n",
    "        sum([coupon/(1+y/freq)**(freq*T) for T in dt]) + \\\n",
    "        par/(1+y/freq)**(freq*T) - price\n",
    "         \n",
    "    return optimize.newton(ytm_func, guess)\n",
    " \n",
    "if __name__ == \"__main__\":\n",
    "    ytm = bond_ytm(95.0428, 100, 1.5, 5.75, 2)\n",
    "    print(ytm)"
   ]
  },
  {
   "cell_type": "markdown",
   "metadata": {},
   "source": [
    "Remember that we covered the use of Newton's method and other nonlinear\n",
    "function root solvers in Chapter 3, Nonlinearity in Finance. For this YTM calculator\n",
    "function, we used the scipy.optimize package to solve for the YTM.\n",
    "\n",
    "The YTM of the bond is 9.369 percent. Now we have a bond YTM calculator that can\n",
    "help us compare a bond's expected return with those of other securities."
   ]
  },
  {
   "cell_type": "code",
   "execution_count": null,
   "metadata": {
    "collapsed": true
   },
   "outputs": [],
   "source": []
  }
 ],
 "metadata": {
  "kernelspec": {
   "display_name": "Python 3",
   "language": "python",
   "name": "python3"
  },
  "language_info": {
   "codemirror_mode": {
    "name": "ipython",
    "version": 3
   },
   "file_extension": ".py",
   "mimetype": "text/x-python",
   "name": "python",
   "nbconvert_exporter": "python",
   "pygments_lexer": "ipython3",
   "version": "3.6.1"
  }
 },
 "nbformat": 4,
 "nbformat_minor": 2
}
