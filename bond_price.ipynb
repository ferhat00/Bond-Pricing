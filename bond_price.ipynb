{
 "cells": [
  {
   "cell_type": "markdown",
   "metadata": {},
   "source": [
    "When the YTM is known, we can get back the bond price in the same way we used\n",
    "the pricing equation investigated earlier."
   ]
  },
  {
   "cell_type": "code",
   "execution_count": 1,
   "metadata": {},
   "outputs": [
    {
     "name": "stdout",
     "output_type": "stream",
     "text": [
      "95.04279999999997\n"
     ]
    }
   ],
   "source": [
    "def bond_price(par, T, ytm, coup, freq=2):\n",
    "    freq = float(freq)\n",
    "    periods = T*freq\n",
    "    coupon = coup/100.*par/freq\n",
    "    dt = [(i+1)/freq for i in range(int(periods))]\n",
    "    price = sum([coupon/(1+ytm/freq)**(freq*t) for t in dt]) + \\\n",
    "            par/(1+ytm/freq)**(freq*T)\n",
    "    return price\n",
    " \n",
    " \n",
    "if __name__ == \"__main__\":\n",
    "    from bond_ytm import bond_ytm\n",
    "    ytm = bond_ytm(95.0428, 100, 1.5, 5.75, 2)\n",
    "    print(bond_price(100, 1.5, ytm, 5.75, 2))"
   ]
  },
  {
   "cell_type": "markdown",
   "metadata": {},
   "source": [
    "Plugging in the same values from the earlier example, we get the following result:"
   ]
  },
  {
   "cell_type": "markdown",
   "metadata": {},
   "source": [
    "This gives us the same original bond price discussed in the earlier example. Using\n",
    "the bond_ytm and bond_price functions, we can use them for further uses in bond\n",
    "pricing, such as finding the bond's modified duration and convexity. These two\n",
    "characteristics of bonds are of importance to bond traders to help them formulate\n",
    "various trading strategies and hedge the risk."
   ]
  },
  {
   "cell_type": "code",
   "execution_count": null,
   "metadata": {
    "collapsed": true
   },
   "outputs": [],
   "source": []
  }
 ],
 "metadata": {
  "kernelspec": {
   "display_name": "Python 3",
   "language": "python",
   "name": "python3"
  },
  "language_info": {
   "codemirror_mode": {
    "name": "ipython",
    "version": 3
   },
   "file_extension": ".py",
   "mimetype": "text/x-python",
   "name": "python",
   "nbconvert_exporter": "python",
   "pygments_lexer": "ipython3",
   "version": "3.6.1"
  }
 },
 "nbformat": 4,
 "nbformat_minor": 2
}
