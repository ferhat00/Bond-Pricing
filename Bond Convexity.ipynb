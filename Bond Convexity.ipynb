{
 "cells": [
  {
   "attachments": {
    "Capture.PNG": {
     "image/png": "[encoded data removed]"
    }
   },
   "cell_type": "markdown",
   "metadata": {},
   "source": [
    "Convexity is the sensitivity measure of the duration of a bond to yield changes.\n",
    "Think of convexity as the second derivative of the relationship between the price\n",
    "and yield:\n",
    "![Capture.PNG](attachment:Capture.PNG)"
   ]
  },
  {
   "cell_type": "markdown",
   "metadata": {},
   "source": [
    "Bond traders use convexity as a risk management tool to measure the amount of\n",
    "market risk in their portfolio. Higher convexity portfolios are less affected by interest\n",
    "rate volatilities than lower convexity portfolio, given the same bond duration and\n",
    "yield. As such, higher convexity bonds are more expensive than lower convexity\n",
    "ones, everything else being equal."
   ]
  },
  {
   "cell_type": "markdown",
   "metadata": {},
   "source": [
    "Import"
   ]
  },
  {
   "cell_type": "code",
   "execution_count": 1,
   "metadata": {},
   "outputs": [
    {
     "name": "stdout",
     "output_type": "stream",
     "text": [
      "2.633959390331875\n"
     ]
    }
   ],
   "source": [
    "from bond_ytm import bond_ytm\n",
    "from bond_price import bond_price\n",
    " \n",
    " \n",
    "def bond_convexity(price, par, T, coup, freq, dy=0.01):\n",
    "    ytm = bond_ytm(price, par, T, coup, freq)\n",
    " \n",
    "    ytm_minus = ytm - dy    \n",
    "    price_minus = bond_price(par, T, ytm_minus, coup, freq)\n",
    "     \n",
    "    ytm_plus = ytm + dy\n",
    "    price_plus = bond_price(par, T, ytm_plus, coup, freq)\n",
    "     \n",
    "    convexity = (price_minus+price_plus-2*price)/(price*dy**2)\n",
    "    return convexity\n",
    " \n",
    "if __name__ == \"__main__\":\n",
    "    print(bond_convexity(95.0428, 100, 1.5, 5.75, 2))"
   ]
  },
  {
   "cell_type": "markdown",
   "metadata": {},
   "source": [
    "We can now find the convexity of the 5.75 percent bond discussed earlier that will\n",
    "mature in 1.5 years with a par value of 100 and a bond price of 95.0428.\n",
    "\n",
    "The convexity of the bond is 2.63. For two bonds with the same par value, coupon,\n",
    "and maturity, their convexity may be different, depending on its location on the yield\n",
    "curve. Higher convexity bonds will exhibit higher price changes for the same change\n",
    "in yield."
   ]
  },
  {
   "cell_type": "code",
   "execution_count": null,
   "metadata": {
    "collapsed": true
   },
   "outputs": [],
   "source": []
  }
 ],
 "metadata": {
  "celltoolbar": "Attachments",
  "kernelspec": {
   "display_name": "Python 3",
   "language": "python",
   "name": "python3"
  },
  "language_info": {
   "codemirror_mode": {
    "name": "ipython",
    "version": 3
   },
   "file_extension": ".py",
   "mimetype": "text/x-python",
   "name": "python",
   "nbconvert_exporter": "python",
   "pygments_lexer": "ipython3",
   "version": "3.6.1"
  }
 },
 "nbformat": 4,
 "nbformat_minor": 2
}
