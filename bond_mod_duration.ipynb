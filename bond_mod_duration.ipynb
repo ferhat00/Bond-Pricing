{
 "cells": [
  {
   "attachments": {
    "Capture2.PNG": {
     "image/png": "[encoded data removed]"
    }
   },
   "cell_type": "markdown",
   "metadata": {},
   "source": [
    "Duration is a sensitivity measure of bond prices to yield changes. Some duration\n",
    "measures are: effective duration, Macaulay duration, and modified duration.\n",
    "The type of duration that we will discuss is modified duration, which measures\n",
    "the percentage change in bond price with respect to a percentage change in yield\n",
    "(typically 1 percent or 100 basis points (bps)).\n",
    "The higher the duration of a bond, the more sensitive it is to yield changes.\n",
    "Conversely, the lower the duration of a bond, the less sensitive it is to yield changes.\n",
    "The modified duration of a bond can be thought of as the first derivative of the\n",
    "relationship between price and yield:\n",
    "![Capture2.PNG](attachment:Capture2.PNG)\n",
    "\n",
    "Here, dy is the given change in yield, P− is the price of the bond from a decrease in\n",
    "yield by dy, P+ is the price of the bond from an increase in yield by dy, and 0 P is the\n",
    "initial price of the bond.\n",
    "It should be noted that the duration describes the linear price-yield relationship for a\n",
    "small change in Y. Because the yield curve is not linear, using a large value of dy does\n",
    "not approximate the duration measure well.\n",
    "The implementation of the modified duration calculator is given in the following\n",
    "Python code. The bond_mod_duration function uses the bond_ytm function as\n",
    "discussed earlier in this chapter to determine the yield of the bond with the given\n",
    "initial value. Also, it uses the bond_price function to determine the price of the bond\n",
    "with the given change in yield:"
   ]
  },
  {
   "cell_type": "code",
   "execution_count": 1,
   "metadata": {},
   "outputs": [
    {
     "name": "stdout",
     "output_type": "stream",
     "text": [
      "1.3921788121707042\n"
     ]
    }
   ],
   "source": [
    "from bond_ytm import bond_ytm\n",
    "from bond_price import bond_price\n",
    " \n",
    " \n",
    "def bond_mod_duration(price, par, T, coup, freq, dy=0.01):\n",
    "    ytm = bond_ytm(price, par, T, coup, freq)\n",
    " \n",
    "    ytm_minus = ytm - dy    \n",
    "    price_minus = bond_price(par, T, ytm_minus, coup, freq)\n",
    "     \n",
    "    ytm_plus = ytm + dy\n",
    "    price_plus = bond_price(par, T, ytm_plus, coup, freq)\n",
    "     \n",
    "    mduration = (price_minus-price_plus)/(2.*price*dy)\n",
    "    return mduration\n",
    " \n",
    "if __name__ == \"__main__\":\n",
    "    from bond_mod_duration import bond_mod_duration\n",
    "    print(bond_mod_duration(95.04, 100, 1.5, 5.75, 2, 0.01))"
   ]
  },
  {
   "cell_type": "markdown",
   "metadata": {},
   "source": [
    "We can find out the modified duration of the 5.75 percent bond discussed earlier that\n",
    "will mature in 1.5 years with a par value of 100 and a bond price of 95.0428.\n"
   ]
  },
  {
   "cell_type": "markdown",
   "metadata": {},
   "source": [
    "The modified duration of the bond is 1.392 years."
   ]
  },
  {
   "cell_type": "code",
   "execution_count": null,
   "metadata": {
    "collapsed": true
   },
   "outputs": [],
   "source": []
  }
 ],
 "metadata": {
  "kernelspec": {
   "display_name": "Python 3",
   "language": "python",
   "name": "python3"
  },
  "language_info": {
   "codemirror_mode": {
    "name": "ipython",
    "version": 3
   },
   "file_extension": ".py",
   "mimetype": "text/x-python",
   "name": "python",
   "nbconvert_exporter": "python",
   "pygments_lexer": "ipython3",
   "version": "3.6.1"
  }
 },
 "nbformat": 4,
 "nbformat_minor": 2
}
